{
 "cells": [
  {
   "cell_type": "code",
   "execution_count": 2,
   "metadata": {},
   "outputs": [],
   "source": [
    "import re\n",
    "def getAttributes(expression):\n",
    "    expression = expression.split(\"(\")[1:]\n",
    "    expression = \"(\".join(expression) \n",
    "    expression = expression.split(\")\")[:-1]\n",
    "    expression = \")\".join(expression)\n",
    "    attributes = expression.split(',')\n",
    "    return attributes\n",
    "\n",
    "def getInitialPredicate(expression):\n",
    "    return expression.split(\"(\")[0]"
   ]
  },
  {
   "cell_type": "code",
   "execution_count": 3,
   "metadata": {},
   "outputs": [],
   "source": [
    "def isConstant(char):\n",
    "    return char.isupper() and len(char) == 1\n",
    "\n",
    "def isVariable(char):\n",
    "    return char.islower() and len(char) == 1"
   ]
  },
  {
   "cell_type": "code",
   "execution_count": 4,
   "metadata": {},
   "outputs": [],
   "source": [
    "def replaceAttributes(exp, old, new):\n",
    "    attributes = getAttributes(exp)\n",
    "    predicate = getInitialPredicate(exp)\n",
    "    for index, val in enumerate(attributes):\n",
    "        if val == old:\n",
    "            attributes[index] = new\n",
    "    return predicate + \"(\" + \",\".join(attributes) + \")\"\n",
    "\n",
    "def apply(exp, substitutions):\n",
    "    for substitution in substitutions:\n",
    "        new, old = substitution  \n",
    "        exp = replaceAttributes(exp, old, new)\n",
    "    return exp"
   ]
  },
  {
   "cell_type": "code",
   "execution_count": 5,
   "metadata": {},
   "outputs": [],
   "source": [
    "def checkOccurs(var, exp):\n",
    "    if exp.find(var) == -1:\n",
    "        return False\n",
    "    return True\n",
    "\n",
    "\n",
    "def getFirstPart(expression):\n",
    "    attributes = getAttributes(expression)\n",
    "    return attributes[0]\n",
    "\n",
    "\n",
    "def getRemainingPart(expression):\n",
    "    predicate = getInitialPredicate(expression)\n",
    "    attributes = getAttributes(expression)\n",
    "    newExpression = predicate + \"(\" + \",\".join(attributes[1:]) + \")\"\n",
    "    return newExpression"
   ]
  },
  {
   "cell_type": "code",
   "execution_count": 6,
   "metadata": {},
   "outputs": [],
   "source": [
    "def unify(exp1, exp2):\n",
    "    if exp1 == exp2:\n",
    "        return []\n",
    "\n",
    "    if isConstant(exp1) and isConstant(exp2):\n",
    "        if exp1 != exp2:\n",
    "            print(f\"{exp1} and {exp2} are constants. Cannot be unified\")\n",
    "            return []\n",
    "\n",
    "    if isConstant(exp1):\n",
    "        return [(exp1, exp2)]\n",
    "\n",
    "    if isConstant(exp2):\n",
    "        return [(exp2, exp1)]\n",
    "\n",
    "    if isVariable(exp1):\n",
    "        return [(exp2, exp1)] if not checkOccurs(exp1, exp2) else []\n",
    "\n",
    "    if isVariable(exp2):\n",
    "        return [(exp1, exp2)] if not checkOccurs(exp2, exp1) else []\n",
    "\n",
    "    if getInitialPredicate(exp1) != getInitialPredicate(exp2):\n",
    "        print(\"Cannot be unified as the predicates do not match!\")\n",
    "        return []\n",
    "\n",
    "    attributeCount1 = len(getAttributes(exp1))\n",
    "    attributeCount2 = len(getAttributes(exp2))\n",
    "    if attributeCount1 != attributeCount2:\n",
    "        print(f\"Length of attributes {attributeCount1} and {attributeCount2} do not match. Cannot be unified\")\n",
    "        return []\n",
    "\n",
    "    head1 = getFirstPart(exp1)\n",
    "    head2 = getFirstPart(exp2)\n",
    "    initialSubstitution = unify(head1, head2)\n",
    "    if not initialSubstitution:\n",
    "        return []\n",
    "    if attributeCount1 == 1:\n",
    "        return initialSubstitution\n",
    "\n",
    "    tail1 = getRemainingPart(exp1)\n",
    "    tail2 = getRemainingPart(exp2)\n",
    "\n",
    "    if initialSubstitution != []:\n",
    "        tail1 = apply(tail1, initialSubstitution)\n",
    "        tail2 = apply(tail2, initialSubstitution)\n",
    "\n",
    "    remainingSubstitution = unify(tail1, tail2)\n",
    "    if not remainingSubstitution:\n",
    "        return []\n",
    "\n",
    "    return initialSubstitution + remainingSubstitution"
   ]
  },
  {
   "cell_type": "code",
   "execution_count": 7,
   "metadata": {},
   "outputs": [],
   "source": [
    "def main():\n",
    "    print(\"Enter the first expression\")\n",
    "    e1 = input()\n",
    "    print(\"Enter the second expression\")\n",
    "    e2 = input()\n",
    "    substitutions = unify(e1, e2)\n",
    "    print(\"The substitutions are:\")\n",
    "    print([' / '.join(substitution) for substitution in substitutions])"
   ]
  },
  {
   "cell_type": "code",
   "execution_count": 8,
   "metadata": {},
   "outputs": [
    {
     "name": "stdout",
     "output_type": "stream",
     "text": [
      "Enter the first expression\n",
      "Student(x)\n",
      "Enter the second expression\n",
      "Teacher(Rose)\n",
      "Cannot be unified as the predicates do not match!\n",
      "The substitutions are:\n",
      "[]\n"
     ]
    }
   ],
   "source": [
    "main()"
   ]
  },
  {
   "cell_type": "code",
   "execution_count": 9,
   "metadata": {},
   "outputs": [
    {
     "name": "stdout",
     "output_type": "stream",
     "text": [
      "Enter the first expression\n",
      "knows(f(x),y)\n",
      "Enter the second expression\n",
      "knows(J,John)\n",
      "The substitutions are:\n",
      "['J / f(x)', 'John / y']\n"
     ]
    }
   ],
   "source": [
    "main()"
   ]
  },
  {
   "cell_type": "code",
   "execution_count": 11,
   "metadata": {
    "scrolled": true
   },
   "outputs": [
    {
     "name": "stdout",
     "output_type": "stream",
     "text": [
      "Enter the first expression\n",
      "hate(M,C)\n",
      "Enter the second expression\n",
      "try(M,C)\n",
      "Cannot be unified as the predicates do not match!\n",
      "The substitutions are:\n",
      "[]\n"
     ]
    }
   ],
   "source": [
    "main()"
   ]
  },
  {
   "cell_type": "code",
   "execution_count": 14,
   "metadata": {},
   "outputs": [
    {
     "name": "stdout",
     "output_type": "stream",
     "text": [
      "Enter the first expression\n",
      "try(M,C)\n",
      "Enter the second expression\n",
      "try(M,C,R)\n",
      "Length of attributes 2 and 3 do not match. Cannot be unified\n",
      "The substitutions are:\n",
      "[]\n"
     ]
    }
   ],
   "source": [
    "main()"
   ]
  },
  {
   "cell_type": "code",
   "execution_count": 17,
   "metadata": {},
   "outputs": [
    {
     "name": "stdout",
     "output_type": "stream",
     "text": [
      "Enter the first expression\n",
      "knows(John, x)\n",
      "Enter the second expression\n",
      "knows(John, Jane)\n",
      "The substitutions are:\n",
      "[]\n"
     ]
    }
   ],
   "source": [
    "main()"
   ]
  }
 ],
 "metadata": {
  "kernelspec": {
   "display_name": "Python 3",
   "language": "python",
   "name": "python3"
  },
  "language_info": {
   "codemirror_mode": {
    "name": "ipython",
    "version": 3
   },
   "file_extension": ".py",
   "mimetype": "text/x-python",
   "name": "python",
   "nbconvert_exporter": "python",
   "pygments_lexer": "ipython3",
   "version": "3.8.5"
  }
 },
 "nbformat": 4,
 "nbformat_minor": 4
}
